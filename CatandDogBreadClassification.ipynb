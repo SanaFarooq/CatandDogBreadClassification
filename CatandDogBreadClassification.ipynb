{
 "cells": [
  {
   "cell_type": "code",
   "execution_count": null,
   "metadata": {},
   "outputs": [],
   "source": []
  },
  {
   "cell_type": "code",
   "execution_count": null,
   "metadata": {},
   "outputs": [],
   "source": []
  },
  {
   "cell_type": "code",
   "execution_count": 6,
   "metadata": {
    "_cell_guid": "b1076dfc-b9ad-4769-8c92-a6c4dae69d19",
    "_uuid": "8f2839f25d086af736a60e9eeb907d3b93b6e0e5",
    "execution": {
     "iopub.execute_input": "2021-12-15T06:13:45.505627Z",
     "iopub.status.busy": "2021-12-15T06:13:45.505073Z",
     "iopub.status.idle": "2021-12-15T06:13:53.022920Z",
     "shell.execute_reply": "2021-12-15T06:13:53.021768Z",
     "shell.execute_reply.started": "2021-12-15T06:13:45.505526Z"
    }
   },
   "outputs": [
    {
     "ename": "ImportError",
     "evalue": "cannot import name 'plot_confusion_matrix' from 'sklearn.metrics' (C:\\ProgramData\\anaconda3\\Lib\\site-packages\\sklearn\\metrics\\__init__.py)",
     "output_type": "error",
     "traceback": [
      "\u001b[1;31m---------------------------------------------------------------------------\u001b[0m",
      "\u001b[1;31mImportError\u001b[0m                               Traceback (most recent call last)",
      "Cell \u001b[1;32mIn[6], line 13\u001b[0m\n\u001b[0;32m     11\u001b[0m \u001b[38;5;28;01mfrom\u001b[39;00m \u001b[38;5;21;01mkeras\u001b[39;00m\u001b[38;5;21;01m.\u001b[39;00m\u001b[38;5;21;01mapplications\u001b[39;00m\u001b[38;5;21;01m.\u001b[39;00m\u001b[38;5;21;01mvgg16\u001b[39;00m \u001b[38;5;28;01mimport\u001b[39;00m VGG16\n\u001b[0;32m     12\u001b[0m \u001b[38;5;28;01mfrom\u001b[39;00m \u001b[38;5;21;01msklearn\u001b[39;00m\u001b[38;5;21;01m.\u001b[39;00m\u001b[38;5;21;01mmetrics\u001b[39;00m \u001b[38;5;28;01mimport\u001b[39;00m classification_report\n\u001b[1;32m---> 13\u001b[0m \u001b[38;5;28;01mfrom\u001b[39;00m \u001b[38;5;21;01msklearn\u001b[39;00m\u001b[38;5;21;01m.\u001b[39;00m\u001b[38;5;21;01mmetrics\u001b[39;00m \u001b[38;5;28;01mimport\u001b[39;00m plot_confusion_matrix\n\u001b[0;32m     14\u001b[0m \u001b[38;5;28;01mfrom\u001b[39;00m \u001b[38;5;21;01mkeras\u001b[39;00m\u001b[38;5;21;01m.\u001b[39;00m\u001b[38;5;21;01mpreprocessing\u001b[39;00m\u001b[38;5;21;01m.\u001b[39;00m\u001b[38;5;21;01mimage\u001b[39;00m \u001b[38;5;28;01mimport\u001b[39;00m ImageDataGenerator\n",
      "\u001b[1;31mImportError\u001b[0m: cannot import name 'plot_confusion_matrix' from 'sklearn.metrics' (C:\\ProgramData\\anaconda3\\Lib\\site-packages\\sklearn\\metrics\\__init__.py)"
     ]
    }
   ],
   "source": [
    "import numpy as np \n",
    "import matplotlib.pyplot as plt\n",
    "import glob\n",
    "import cv2\n",
    "from tensorflow.keras.preprocessing.image import ImageDataGenerator\n",
    "from keras.models import Model, Sequential\n",
    "from keras.layers import Dense, Flatten, Conv2D, MaxPooling2D, Dropout\n",
    "from sklearn.metrics import confusion_matrix\n",
    "import os\n",
    "import seaborn as sns\n",
    "from keras.applications.vgg16 import VGG16\n",
    "from sklearn.metrics import classification_report\n",
    "from sklearn.metrics import plot_confusion_matrix\n",
    "from keras.preprocessing.image import ImageDataGenerator"
   ]
  },
  {
   "cell_type": "code",
   "execution_count": 3,
   "metadata": {},
   "outputs": [],
   "source": [
    "# Import data"
   ]
  },
  {
   "cell_type": "code",
   "execution_count": null,
   "metadata": {
    "execution": {
     "iopub.execute_input": "2021-12-12T04:06:49.938807Z",
     "iopub.status.busy": "2021-12-12T04:06:49.938354Z",
     "iopub.status.idle": "2021-12-12T04:06:49.943336Z",
     "shell.execute_reply": "2021-12-12T04:06:49.942478Z",
     "shell.execute_reply.started": "2021-12-12T04:06:49.938772Z"
    }
   },
   "outputs": [],
   "source": [
    "train_gen = ImageDataGenerator(validation_split=0.20)"
   ]
  },
  {
   "cell_type": "code",
   "execution_count": 13,
   "metadata": {
    "execution": {
     "iopub.execute_input": "2021-12-12T04:09:31.869336Z",
     "iopub.status.busy": "2021-12-12T04:09:31.868977Z",
     "iopub.status.idle": "2021-12-12T04:09:51.957367Z",
     "shell.execute_reply": "2021-12-12T04:09:51.956607Z",
     "shell.execute_reply.started": "2021-12-12T04:09:31.869291Z"
    }
   },
   "outputs": [
    {
     "ename": "NameError",
     "evalue": "name 'train_gen' is not defined",
     "output_type": "error",
     "traceback": [
      "\u001b[1;31m---------------------------------------------------------------------------\u001b[0m",
      "\u001b[1;31mNameError\u001b[0m                                 Traceback (most recent call last)",
      "Cell \u001b[1;32mIn[13], line 1\u001b[0m\n\u001b[1;32m----> 1\u001b[0m train_generator \u001b[38;5;241m=\u001b[39m train_gen\u001b[38;5;241m.\u001b[39mflow_from_directory(directory\u001b[38;5;241m=\u001b[39m\u001b[38;5;124m\"\u001b[39m\u001b[38;5;124m..Desktop/Data Science Assignment group/cat and dog/train_set\u001b[39m\u001b[38;5;124m\"\u001b[39m,\n\u001b[0;32m      2\u001b[0m                                      target_size\u001b[38;5;241m=\u001b[39m(\u001b[38;5;241m224\u001b[39m, \u001b[38;5;241m224\u001b[39m), batch_size\u001b[38;5;241m=\u001b[39m\u001b[38;5;241m32\u001b[39m,\n\u001b[0;32m      3\u001b[0m                                      shuffle\u001b[38;5;241m=\u001b[39m\u001b[38;5;28;01mTrue\u001b[39;00m,subset\u001b[38;5;241m=\u001b[39m\u001b[38;5;124m'\u001b[39m\u001b[38;5;124mtraining\u001b[39m\u001b[38;5;124m'\u001b[39m)\n",
      "\u001b[1;31mNameError\u001b[0m: name 'train_gen' is not defined"
     ]
    }
   ],
   "source": [
    "train_generator = train_gen.flow_from_directory(directory=\"..Desktop/Data Science Assignment group/cat and dog/train_set\",\n",
    "                                     target_size=(224, 224), batch_size=32,\n",
    "                                     shuffle=True,subset='training')"
   ]
  },
  {
   "cell_type": "code",
   "execution_count": null,
   "metadata": {
    "execution": {
     "iopub.execute_input": "2021-12-12T04:09:57.376362Z",
     "iopub.status.busy": "2021-12-12T04:09:57.376111Z",
     "iopub.status.idle": "2021-12-12T04:10:06.64156Z",
     "shell.execute_reply": "2021-12-12T04:10:06.640791Z",
     "shell.execute_reply.started": "2021-12-12T04:09:57.376333Z"
    }
   },
   "outputs": [],
   "source": [
    "val_gen = train_gen.flow_from_directory(directory='../Data Science Assignment group/cat and dog/train_set',\n",
    "                                      target_size=(224, 224), batch_size=32,\n",
    "                                      shuffle=True, subset='validation')"
   ]
  },
  {
   "cell_type": "markdown",
   "metadata": {},
   "source": [
    "# Config finetune model"
   ]
  },
  {
   "cell_type": "code",
   "execution_count": null,
   "metadata": {
    "execution": {
     "iopub.execute_input": "2021-12-12T04:10:31.552008Z",
     "iopub.status.busy": "2021-12-12T04:10:31.551755Z",
     "iopub.status.idle": "2021-12-12T04:10:33.387881Z",
     "shell.execute_reply": "2021-12-12T04:10:33.387095Z",
     "shell.execute_reply.started": "2021-12-12T04:10:31.551978Z"
    }
   },
   "outputs": [],
   "source": [
    "VGG_model = VGG16(weights='imagenet', include_top=True,\n",
    "                  input_shape=(224, 224, 3))"
   ]
  },
  {
   "cell_type": "code",
   "execution_count": null,
   "metadata": {
    "execution": {
     "iopub.execute_input": "2021-12-12T04:10:42.155087Z",
     "iopub.status.busy": "2021-12-12T04:10:42.15435Z",
     "iopub.status.idle": "2021-12-12T04:10:42.251656Z",
     "shell.execute_reply": "2021-12-12T04:10:42.25089Z",
     "shell.execute_reply.started": "2021-12-12T04:10:42.155046Z"
    }
   },
   "outputs": [],
   "source": [
    "ft_model = Sequential()\n",
    "for layer in VGG_model.layers:\n",
    "  layer.trainable=False\n",
    "  ft_model.add(layer)\n",
    "\n",
    "ft_model.pop()"
   ]
  },
  {
   "cell_type": "code",
   "execution_count": null,
   "metadata": {
    "execution": {
     "iopub.execute_input": "2021-12-12T04:10:44.358588Z",
     "iopub.status.busy": "2021-12-12T04:10:44.357909Z",
     "iopub.status.idle": "2021-12-12T04:10:44.375039Z",
     "shell.execute_reply": "2021-12-12T04:10:44.374103Z",
     "shell.execute_reply.started": "2021-12-12T04:10:44.358546Z"
    }
   },
   "outputs": [],
   "source": [
    "ft_model.summary()"
   ]
  },
  {
   "cell_type": "code",
   "execution_count": null,
   "metadata": {
    "execution": {
     "iopub.execute_input": "2021-12-12T04:11:12.009826Z",
     "iopub.status.busy": "2021-12-12T04:11:12.009279Z",
     "iopub.status.idle": "2021-12-12T04:11:12.057344Z",
     "shell.execute_reply": "2021-12-12T04:11:12.05648Z",
     "shell.execute_reply.started": "2021-12-12T04:11:12.009787Z"
    }
   },
   "outputs": [],
   "source": [
    "ft_model.add(Dense(2048, activation='ReLU'))\n",
    "ft_model.add(Dropout(0.5))\n",
    "ft_model.add(Dense(23, activation='softmax'))\n",
    "ft_model.summary()"
   ]
  },
  {
   "cell_type": "code",
   "execution_count": null,
   "metadata": {
    "execution": {
     "iopub.execute_input": "2021-12-12T04:11:29.807977Z",
     "iopub.status.busy": "2021-12-12T04:11:29.807713Z",
     "iopub.status.idle": "2021-12-12T04:11:29.822753Z",
     "shell.execute_reply": "2021-12-12T04:11:29.821964Z",
     "shell.execute_reply.started": "2021-12-12T04:11:29.807946Z"
    }
   },
   "outputs": [],
   "source": [
    "ft_model.compile(optimizer='adam', loss='categorical_crossentropy',\n",
    "                 metrics=['accuracy'])"
   ]
  },
  {
   "cell_type": "code",
   "execution_count": null,
   "metadata": {
    "execution": {
     "iopub.execute_input": "2021-12-12T04:12:10.984485Z",
     "iopub.status.busy": "2021-12-12T04:12:10.984183Z",
     "iopub.status.idle": "2021-12-12T04:36:38.446475Z",
     "shell.execute_reply": "2021-12-12T04:36:38.445595Z",
     "shell.execute_reply.started": "2021-12-12T04:12:10.984452Z"
    }
   },
   "outputs": [],
   "source": [
    "num_epoch = 10\n",
    "ft_model.fit_generator(train_generator, epochs=num_epoch, \n",
    "                       validation_data=val_gen)"
   ]
  },
  {
   "cell_type": "code",
   "execution_count": null,
   "metadata": {
    "execution": {
     "iopub.execute_input": "2021-12-12T04:37:09.368337Z",
     "iopub.status.busy": "2021-12-12T04:37:09.367775Z",
     "iopub.status.idle": "2021-12-12T04:37:10.587818Z",
     "shell.execute_reply": "2021-12-12T04:37:10.587083Z",
     "shell.execute_reply.started": "2021-12-12T04:37:09.36828Z"
    }
   },
   "outputs": [],
   "source": [
    "ft_model.save('ft_model.h5')"
   ]
  },
  {
   "cell_type": "code",
   "execution_count": null,
   "metadata": {
    "execution": {
     "iopub.execute_input": "2021-12-15T06:21:35.794524Z",
     "iopub.status.busy": "2021-12-15T06:21:35.794243Z",
     "iopub.status.idle": "2021-12-15T06:21:35.799950Z",
     "shell.execute_reply": "2021-12-15T06:21:35.798411Z",
     "shell.execute_reply.started": "2021-12-15T06:21:35.794495Z"
    }
   },
   "outputs": [],
   "source": [
    "test_gen = ImageDataGenerator()"
   ]
  },
  {
   "cell_type": "code",
   "execution_count": null,
   "metadata": {
    "execution": {
     "iopub.execute_input": "2021-12-15T06:21:37.021678Z",
     "iopub.status.busy": "2021-12-15T06:21:37.021334Z",
     "iopub.status.idle": "2021-12-15T06:21:37.143545Z",
     "shell.execute_reply": "2021-12-15T06:21:37.142566Z",
     "shell.execute_reply.started": "2021-12-15T06:21:37.021647Z"
    }
   },
   "outputs": [],
   "source": [
    "test_generator = test_gen.flow_from_directory(directory='../Data Science Assignment group/cat and dog/train_set',\n",
    "                                      target_size=(224, 224), batch_size=16,\n",
    "                                      shuffle=False, class_mode=None)"
   ]
  },
  {
   "cell_type": "code",
   "execution_count": 9,
   "metadata": {
    "execution": {
     "iopub.execute_input": "2021-12-15T06:27:24.938856Z",
     "iopub.status.busy": "2021-12-15T06:27:24.937801Z",
     "iopub.status.idle": "2021-12-15T06:27:24.944884Z",
     "shell.execute_reply": "2021-12-15T06:27:24.943738Z",
     "shell.execute_reply.started": "2021-12-15T06:27:24.938804Z"
    }
   },
   "outputs": [],
   "source": [
    "true_name = ['abyssinian','american shorthair','beagle','boxer','bulldog','chihuahua','corgi','dachshund','german shepherd','golden retriever','husky','labrador','maine coon','mumbai cat',\n",
    "             'persian cat','pomeranian','pug','ragdoll cat','rottwiler','shiba inu','siamese cat','sphynx','yorkshire terrier']"
   ]
  },
  {
   "cell_type": "code",
   "execution_count": 10,
   "metadata": {
    "execution": {
     "iopub.execute_input": "2021-12-15T06:28:35.806604Z",
     "iopub.status.busy": "2021-12-15T06:28:35.806323Z",
     "iopub.status.idle": "2021-12-15T06:28:35.812708Z",
     "shell.execute_reply": "2021-12-15T06:28:35.811502Z",
     "shell.execute_reply.started": "2021-12-15T06:28:35.806573Z"
    }
   },
   "outputs": [],
   "source": [
    "labels = []\n",
    "\n",
    "for y in test_generator.classes:\n",
    "    labels.append(y)"
   ]
  },
  {
   "cell_type": "markdown",
   "metadata": {},
   "source": [
    "## Encode classes"
   ]
  },
  {
   "cell_type": "code",
   "execution_count": 11,
   "metadata": {
    "execution": {
     "iopub.execute_input": "2021-12-15T06:29:16.992609Z",
     "iopub.status.busy": "2021-12-15T06:29:16.992296Z",
     "iopub.status.idle": "2021-12-15T06:29:16.997509Z",
     "shell.execute_reply": "2021-12-15T06:29:16.996272Z",
     "shell.execute_reply.started": "2021-12-15T06:29:16.992578Z"
    }
   },
   "outputs": [],
   "source": [
    "from sklearn import preprocessing\n",
    "le = preprocessing.LabelEncoder()"
   ]
  },
  {
   "cell_type": "code",
   "execution_count": 15,
   "metadata": {
    "execution": {
     "iopub.execute_input": "2021-12-15T06:31:11.685282Z",
     "iopub.status.busy": "2021-12-15T06:31:11.684998Z",
     "iopub.status.idle": "2021-12-15T06:31:11.694171Z",
     "shell.execute_reply": "2021-12-15T06:31:11.693059Z",
     "shell.execute_reply.started": "2021-12-15T06:31:11.685250Z"
    }
   },
   "outputs": [
    {
     "data": {
      "text/plain": [
       "array([ 0,  1,  2,  3,  4,  5,  6,  7,  8,  9, 10, 11, 12, 13, 14, 15, 16,\n",
       "       17, 18, 19, 20, 21, 22])"
      ]
     },
     "execution_count": 15,
     "metadata": {},
     "output_type": "execute_result"
    }
   ],
   "source": [
    "le.fit(true_name)\n",
    "le.transform(true_name)"
   ]
  },
  {
   "cell_type": "code",
   "execution_count": null,
   "metadata": {},
   "outputs": [],
   "source": [
    "new_label = le.inverse_transform(labels)\n",
    "# print(new_label)"
   ]
  },
  {
   "cell_type": "code",
   "execution_count": 20,
   "metadata": {
    "execution": {
     "iopub.execute_input": "2021-12-15T06:37:25.404390Z",
     "iopub.status.busy": "2021-12-15T06:37:25.403415Z",
     "iopub.status.idle": "2021-12-15T06:37:25.852849Z",
     "shell.execute_reply": "2021-12-15T06:37:25.851930Z",
     "shell.execute_reply.started": "2021-12-15T06:37:25.404352Z"
    }
   },
   "outputs": [
    {
     "data": {
      "text/plain": [
       "<Figure size 1296x1296 with 0 Axes>"
      ]
     },
     "metadata": {},
     "output_type": "display_data"
    },
    {
     "data": {
      "image/png": "[encoded data removed]",
      "text/plain": [
       "<Figure size 360x360 with 1 Axes>"
      ]
     },
     "metadata": {
      "needs_background": "light"
     },
     "output_type": "display_data"
    }
   ],
   "source": [
    "plt.figure(figsize = (18,18))\n",
    "sns.displot(new_label)\n",
    "plt.show()"
   ]
  },
  {
   "cell_type": "markdown",
   "metadata": {},
   "source": [
    "## Plot result "
   ]
  },
  {
   "cell_type": "code",
   "execution_count": 25,
   "metadata": {
    "execution": {
     "iopub.execute_input": "2021-12-15T06:43:29.051728Z",
     "iopub.status.busy": "2021-12-15T06:43:29.051415Z",
     "iopub.status.idle": "2021-12-15T06:43:42.742024Z",
     "shell.execute_reply": "2021-12-15T06:43:42.741047Z",
     "shell.execute_reply.started": "2021-12-15T06:43:29.051687Z"
    }
   },
   "outputs": [
    {
     "name": "stderr",
     "output_type": "stream",
     "text": [
      "2021-12-15 06:43:29.257844: I tensorflow/compiler/mlir/mlir_graph_optimization_pass.cc:185] None of the MLIR Optimization Passes are enabled (registered 2)\n",
      "2021-12-15 06:43:30.446884: I tensorflow/stream_executor/cuda/cuda_dnn.cc:369] Loaded cuDNN version 8005\n"
     ]
    }
   ],
   "source": [
    "model_hist = ft_model.predict(test_generator)"
   ]
  },
  {
   "cell_type": "code",
   "execution_count": 6,
   "metadata": {
    "execution": {
     "iopub.execute_input": "2021-12-15T06:24:35.443427Z",
     "iopub.status.busy": "2021-12-15T06:24:35.443097Z",
     "iopub.status.idle": "2021-12-15T06:24:35.452465Z",
     "shell.execute_reply": "2021-12-15T06:24:35.451042Z",
     "shell.execute_reply.started": "2021-12-15T06:24:35.443395Z"
    }
   },
   "outputs": [
    {
     "name": "stdout",
     "output_type": "stream",
     "text": [
      "{'0': 0, '1': 1, '10': 2, '11': 3, '12': 4, '13': 5, '14': 6, '15': 7, '16': 8, '17': 9, '18': 10, '19': 11, '2': 12, '20': 13, '21': 14, '22': 15, '3': 16, '4': 17, '5': 18, '6': 19, '7': 20, '8': 21, '9': 22}\n"
     ]
    }
   ],
   "source": [
    "labels=(test_generator.class_indices)\n",
    "labels2=dict((v,k) for k,v in labels.items())\n",
    "print(labels)"
   ]
  },
  {
   "cell_type": "code",
   "execution_count": 26,
   "metadata": {
    "execution": {
     "iopub.execute_input": "2021-12-15T06:43:52.512486Z",
     "iopub.status.busy": "2021-12-15T06:43:52.512092Z",
     "iopub.status.idle": "2021-12-15T06:43:52.526805Z",
     "shell.execute_reply": "2021-12-15T06:43:52.525720Z",
     "shell.execute_reply.started": "2021-12-15T06:43:52.512439Z"
    }
   },
   "outputs": [],
   "source": [
    "pred_ft = [np.argmax(y, axis=None, out=None) for y in model_hist]"
   ]
  },
  {
   "cell_type": "code",
   "execution_count": 27,
   "metadata": {
    "execution": {
     "iopub.execute_input": "2021-12-15T06:44:19.688864Z",
     "iopub.status.busy": "2021-12-15T06:44:19.688518Z",
     "iopub.status.idle": "2021-12-15T06:44:19.696929Z",
     "shell.execute_reply": "2021-12-15T06:44:19.694779Z",
     "shell.execute_reply.started": "2021-12-15T06:44:19.688805Z"
    }
   },
   "outputs": [],
   "source": [
    "pred_labels = le.inverse_transform(pred_ft)"
   ]
  },
  {
   "cell_type": "code",
   "execution_count": 31,
   "metadata": {
    "execution": {
     "iopub.execute_input": "2021-12-15T06:46:02.789238Z",
     "iopub.status.busy": "2021-12-15T06:46:02.788861Z",
     "iopub.status.idle": "2021-12-15T06:46:02.799337Z",
     "shell.execute_reply": "2021-12-15T06:46:02.798335Z",
     "shell.execute_reply.started": "2021-12-15T06:46:02.789187Z"
    }
   },
   "outputs": [],
   "source": [
    "cm = confusion_matrix(new_label, pred_labels)"
   ]
  },
  {
   "cell_type": "code",
   "execution_count": 32,
   "metadata": {
    "execution": {
     "iopub.execute_input": "2021-12-15T06:46:06.811030Z",
     "iopub.status.busy": "2021-12-15T06:46:06.810665Z",
     "iopub.status.idle": "2021-12-15T06:46:09.394824Z",
     "shell.execute_reply": "2021-12-15T06:46:09.393852Z",
     "shell.execute_reply.started": "2021-12-15T06:46:06.810998Z"
    }
   },
   "outputs": [
    {
     "data": {
      "image/png": "[encoded data removed]",
      "text/plain": [
       "<Figure size 720x504 with 2 Axes>"
      ]
     },
     "metadata": {
      "needs_background": "light"
     },
     "output_type": "display_data"
    }
   ],
   "source": [
    "plt.figure(figsize = (10,7))\n",
    "sns.heatmap(cm, annot=True)\n",
    "plt.show()"
   ]
  },
  {
   "cell_type": "code",
   "execution_count": 33,
   "metadata": {
    "execution": {
     "iopub.execute_input": "2021-12-15T06:46:35.775892Z",
     "iopub.status.busy": "2021-12-15T06:46:35.775559Z",
     "iopub.status.idle": "2021-12-15T06:46:35.796466Z",
     "shell.execute_reply": "2021-12-15T06:46:35.795535Z",
     "shell.execute_reply.started": "2021-12-15T06:46:35.775818Z"
    }
   },
   "outputs": [
    {
     "name": "stdout",
     "output_type": "stream",
     "text": [
      "                    precision    recall  f1-score   support\n",
      "\n",
      "        abyssinian       1.00      1.00      1.00        26\n",
      "american shorthair       1.00      1.00      1.00        25\n",
      "            beagle       1.00      1.00      1.00        37\n",
      "             boxer       0.95      1.00      0.98        42\n",
      "           bulldog       1.00      1.00      1.00        27\n",
      "         chihuahua       1.00      1.00      1.00        36\n",
      "             corgi       1.00      1.00      1.00        29\n",
      "         dachshund       1.00      1.00      1.00        27\n",
      "   german shepherd       1.00      0.97      0.99        39\n",
      "  golden retriever       0.96      1.00      0.98        24\n",
      "             husky       1.00      1.00      1.00        46\n",
      "          labrador       1.00      0.94      0.97        33\n",
      "        maine coon       1.00      1.00      1.00        24\n",
      "        mumbai cat       1.00      0.97      0.99        34\n",
      "       persian cat       1.00      1.00      1.00        30\n",
      "        pomeranian       0.97      1.00      0.99        33\n",
      "               pug       1.00      1.00      1.00        34\n",
      "       ragdoll cat       0.97      1.00      0.99        33\n",
      "         rottwiler       0.93      1.00      0.97        28\n",
      "         shiba inu       1.00      1.00      1.00        32\n",
      "       siamese cat       1.00      0.90      0.95        29\n",
      "            sphynx       1.00      1.00      1.00        28\n",
      " yorkshire terrier       1.00      1.00      1.00        21\n",
      "\n",
      "          accuracy                           0.99       717\n",
      "         macro avg       0.99      0.99      0.99       717\n",
      "      weighted avg       0.99      0.99      0.99       717\n",
      "\n"
     ]
    }
   ],
   "source": [
    "print(classification_report(new_label,pred_labels))"
   ]
  },
  {
   "cell_type": "code",
   "execution_count": 23,
   "metadata": {
    "execution": {
     "iopub.execute_input": "2021-12-15T06:42:52.336210Z",
     "iopub.status.busy": "2021-12-15T06:42:52.335924Z",
     "iopub.status.idle": "2021-12-15T06:42:52.341183Z",
     "shell.execute_reply": "2021-12-15T06:42:52.339884Z",
     "shell.execute_reply.started": "2021-12-15T06:42:52.336179Z"
    }
   },
   "outputs": [],
   "source": [
    "import keras"
   ]
  },
  {
   "cell_type": "code",
   "execution_count": null,
   "metadata": {},
   "outputs": [],
   "source": [
    "ft_model = keras.models.load_model('../input/23-dog-and-cat-breads/Trained_VGG16.h5')"
   ]
  },
  {
   "cell_type": "markdown",
   "metadata": {},
   "source": [
    "## Visualize"
   ]
  },
  {
   "cell_type": "code",
   "execution_count": null,
   "metadata": {},
   "outputs": [],
   "source": []
  }
 ],
 "metadata": {
  "kernelspec": {
   "display_name": "Python 3 (ipykernel)",
   "language": "python",
   "name": "python3"
  },
  "language_info": {
   "codemirror_mode": {
    "name": "ipython",
    "version": 3
   },
   "file_extension": ".py",
   "mimetype": "text/x-python",
   "name": "python",
   "nbconvert_exporter": "python",
   "pygments_lexer": "ipython3",
   "version": "3.11.5"
  },
  "toc": {
   "base_numbering": 1,
   "nav_menu": {},
   "number_sections": true,
   "sideBar": true,
   "skip_h1_title": false,
   "title_cell": "Table of Contents",
   "title_sidebar": "Contents",
   "toc_cell": false,
   "toc_position": {},
   "toc_section_display": true,
   "toc_window_display": false
  },
  "varInspector": {
   "cols": {
    "lenName": 16,
    "lenType": 16,
    "lenVar": 40
   },
   "kernels_config": {
    "python": {
     "delete_cmd_postfix": "",
     "delete_cmd_prefix": "del ",
     "library": "var_list.py",
     "varRefreshCmd": "print(var_dic_list())"
    },
    "r": {
     "delete_cmd_postfix": ") ",
     "delete_cmd_prefix": "rm(",
     "library": "var_list.r",
     "varRefreshCmd": "cat(var_dic_list()) "
    }
   },
   "types_to_exclude": [
    "module",
    "function",
    "builtin_function_or_method",
    "instance",
    "_Feature"
   ],
   "window_display": false
  }
 },
 "nbformat": 4,
 "nbformat_minor": 4
}
